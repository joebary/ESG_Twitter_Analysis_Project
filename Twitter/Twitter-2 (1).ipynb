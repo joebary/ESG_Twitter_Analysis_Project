{
 "cells": [
  {
   "cell_type": "markdown",
   "id": "67a8594f",
   "metadata": {},
   "source": [
    "# Markdown\n",
    "\n",
    "- 1- Authentication,\n",
    "- 2- Get CSV file.\n",
    "- 3- Get unique tickers in order for us to search tweets that relate to them on twitter.\n",
    "- 4- Download the tweets that have those tickers. <------- Here.\n",
    "- 5- Create a model that can classify those tweets into Positive/Negative.\n",
    "- 6- Use the model in step 5 to classify the downloaded tweets in step 4.\n",
    "- 7- get only the positive tweets.\n",
    "- 8- Analysis."
   ]
  },
  {
   "cell_type": "code",
   "execution_count": 80,
   "id": "d0b0a3aa",
   "metadata": {},
   "outputs": [
    {
     "name": "stderr",
     "output_type": "stream",
     "text": [
      "[nltk_data] Downloading package stopwords to\n",
      "[nltk_data]     C:\\Users\\omarm\\AppData\\Roaming\\nltk_data...\n",
      "[nltk_data]   Package stopwords is already up-to-date!\n"
     ]
    },
    {
     "data": {
      "text/plain": [
       "True"
      ]
     },
     "execution_count": 80,
     "metadata": {},
     "output_type": "execute_result"
    }
   ],
   "source": [
    "# Import Libraries\n",
    "import seaborn as sns\n",
    "import pandas as pd \n",
    "from textblob import TextBlob\n",
    "import sys\n",
    "import ast\n",
    "import tweepy\n",
    "import matplotlib.pyplot as plt #to display our wordcloud\n",
    "import pandas as pd\n",
    "import numpy as np #to get the color of our image\n",
    "import os\n",
    "import nltk\n",
    "import pycountry\n",
    "import re\n",
    "import string\n",
    "from dotenv import load_dotenv\n",
    "import requests\n",
    "import json\n",
    "from wordcloud import WordCloud, STOPWORDS, ImageColorGenerator\n",
    "from PIL import Image #to load out image\n",
    "from nltk.sentiment.vader import SentimentIntensityAnalyzer\n",
    "from langdetect import detect\n",
    "from nltk.stem import SnowballStemmer\n",
    "from nltk.sentiment.vader import SentimentIntensityAnalyzer\n",
    "from sklearn.feature_extraction.text import CountVectorizer\n",
    "\n",
    "nltk.download('stopwords')"
   ]
  },
  {
   "cell_type": "markdown",
   "id": "094251a7",
   "metadata": {},
   "source": [
    "# Helper"
   ]
  },
  {
   "cell_type": "code",
   "execution_count": 128,
   "id": "dde3325f",
   "metadata": {},
   "outputs": [],
   "source": [
    "# Setting Up, basic Sentiment Analysis review\n",
    "def percentage(part,whole):\n",
    "    return 100 * float(part)/float(whole) "
   ]
  },
  {
   "cell_type": "markdown",
   "id": "bfb33589",
   "metadata": {},
   "source": [
    "# Authentication."
   ]
  },
  {
   "cell_type": "code",
   "execution_count": 130,
   "id": "5cee7b95",
   "metadata": {},
   "outputs": [
    {
     "data": {
      "text/plain": [
       "True"
      ]
     },
     "execution_count": 130,
     "metadata": {},
     "output_type": "execute_result"
    }
   ],
   "source": [
    "load_dotenv()"
   ]
  },
  {
   "cell_type": "code",
   "execution_count": 131,
   "id": "9dbf7265",
   "metadata": {},
   "outputs": [],
   "source": [
    "# Authentication\n",
    "# consumerKey = os.getenv(\"TWITTER_API_KEY\")\n",
    "# consumerSecret = os.getenv(\"TWITTER_SECRET_KEY\")\n",
    "# accessToken = os.getenv(\"TWITTER_ACCESS_TOKEN\")\n",
    "# accessTokenSecret = os.getenv(\"TWITTER_ACCESS_TOKEN_SECRET\")\n",
    "\n",
    "auth = tweepy.OAuthHandler(consumerKey, consumerSecret)\n",
    "auth.set_access_token(accessToken, accessTokenSecret)\n",
    "api = tweepy.API(auth, wait_on_rate_limit=True)"
   ]
  },
  {
   "cell_type": "code",
   "execution_count": 83,
   "id": "10798e43",
   "metadata": {},
   "outputs": [],
   "source": [
    "df = pd.read_csv(\"https://raw.githubusercontent.com/joebary/Project_3_Team_1/main/ESG_data.csv\")\n",
    "df.head(3)"
   ]
  },
  {
   "cell_type": "markdown",
   "id": "ccc66e5a",
   "metadata": {},
   "source": [
    "# Extract all the unique tickers."
   ]
  },
  {
   "cell_type": "code",
   "execution_count": 103,
   "id": "bb57be3c",
   "metadata": {},
   "outputs": [
    {
     "name": "stdout",
     "output_type": "stream",
     "text": [
      "['AAPL', 'MSFT', 'AMZN', 'FB', 'TSLA', 'GOOGL', 'JNJ', 'JPM', 'V', 'UNH', 'PG', 'NVDA', 'DIS', 'MA', 'HD', 'PYPL', 'BAC', 'VZ', 'CMCSA', 'ADBE', 'NFLX', 'INTC', 'T', 'MRK', 'PFE', 'WMT', 'CRM', 'TMO', 'ABT', 'PEP', 'KO', 'XOM', 'CSCO', 'ABBV', 'NKE', 'AVGO', 'QCOM', 'CVX', 'ACN', 'COST', 'MDT', 'MCD', 'NEE', 'TXN', 'DHR', 'HON', 'UNP', 'BMY', 'WFC', 'C', 'AMGN', 'LLY', 'PM', 'SBUX', 'LOW', 'ORCL', 'IBM', 'UPS', 'BA', 'MS', 'BLK', 'RTX', 'CAT', 'GS', 'NOW', 'GE', 'MMM', 'INTU', 'CVS', 'AMT', 'TGT', 'ISRG', 'DE', 'CHTR', 'BKNG', 'SCHW', 'MU', 'AMAT', 'LMT', 'FIS', 'TJX', 'ANTM', 'MDLZ', 'SYK', 'CI', 'ZTS', 'AXP', 'SPGI', 'GILD', 'TMUS', 'MO', 'LRCX', 'BDX', 'ADP', 'CSX', 'CME', 'PLD', 'CB', 'CL', 'TFC', 'ADSK', 'ATVI', 'USB', 'PNC', 'DUK', 'FISV', 'CCI', 'ICE', 'SO', 'NSC', 'APD', 'GPN', 'VRTX', 'EQIX', 'ITW', 'SHW', 'D', 'FDX', 'DD', 'HUM', 'EL', 'ADI', 'MMC', 'ECL', 'ILMN', 'EW', 'PGR', 'GM', 'DG', 'BSX', 'NEM', 'ETN', 'COF', 'REGN', 'EMR', 'COP', 'AON', 'WM', 'HCA', 'MCO', 'NOC', 'FCX', 'ROP', 'KMB', 'ROST', 'CTSH', 'KLAC', 'TEL', 'IDXX', 'BAX', 'TWTR', 'EXC', 'EA', 'APH', 'CNC', 'AEP', 'SNPS', 'APTV', 'STZ', 'MCHP', 'A', 'BIIB', 'SYY', 'CMG', 'CDNS', 'MET', 'DLR', 'DXCM', 'JCI', 'TT', 'BK', 'MSCI', 'XLNX', 'PH', 'IQV', 'PPG', 'GIS', 'CMI', 'F', 'HPQ', 'GD', 'TRV', 'AIG', 'TROW', 'EBAY', 'MAR', 'SLB', 'SRE', 'MNST', 'XEL', 'EOG', 'ALXN', 'ORLY', 'INFO', 'ALL', 'PSA', 'ZBH', 'TDG', 'VRSK', 'WBA', 'PRU', 'YUM', 'HLT', 'PSX', 'ANSS', 'CTAS', 'RMD', 'PCAR', 'ES', 'ROK', 'DFS', 'BLL', 'SBAC', 'MCK', 'PAYX', 'AFL', 'ADM', 'MTD', 'MSI', 'AZO', 'MPC', 'AME', 'FAST', 'SWK', 'KMI', 'PEG', 'GLW', 'VFC', 'LUV', 'SPG', 'FRC', 'WEC', 'AWK', 'STT', 'SWKS', 'DLTR', 'WLTW', 'WELL', 'WMB', 'KEYS', 'DAL', 'CPRT', 'MXIM', 'WY', 'LYB', 'BBY', 'CLX', 'KR', 'FTV', 'CERN', 'VLO', 'ED', 'AMP', 'MKC', 'AJG', 'EIX', 'FLT', 'DTE', 'DHI', 'VIAC', 'FITB', 'SIVB', 'HSY', 'EFX', 'AVB', 'KHC', 'PXD', 'TER', 'VMC', 'PPL', 'LH', 'ETSY', 'CHD', 'LEN', 'O', 'CBRE', 'IP', 'QRVO', 'RSG', 'NTRS', 'KSU', 'ARE', 'VRSN', 'HOLX', 'SYF', 'EQR', 'ALB', 'XYL', 'EXPE', 'FTNT', 'MLM', 'URI', 'LVS', 'TSN', 'ETR', 'MTB', 'CDW', 'TFX', 'DOV', 'AEE', 'GRMN', 'OKE', 'HIG', 'KEY', 'GWW', 'BR', 'HAL']\n"
     ]
    },
    {
     "data": {
      "text/plain": [
       "307"
      ]
     },
     "execution_count": 103,
     "metadata": {},
     "output_type": "execute_result"
    }
   ],
   "source": [
    "all_tickers = list(df[\"Ticker\"].unique())\n",
    "print(all_tickers)\n",
    "len(all_tickers)"
   ]
  },
  {
   "cell_type": "markdown",
   "id": "a26ec941",
   "metadata": {},
   "source": [
    "## According to this website these are the top ten ESG stocks on the market right now.\n",
    "\n",
    "https://www.investors.com/news/esg-companies-list-best-esg-stocks-environmental-social-governance-values/\n"
   ]
  },
  {
   "cell_type": "code",
   "execution_count": 124,
   "id": "61b97958",
   "metadata": {},
   "outputs": [],
   "source": [
    "top_ten_list = [\"MSFT\", \"LIN\",\"ACN\",\"JBHT\",\"XYL\",\n",
    "               \"TXN\",\"CRM\",\"GIL\",\"MCB\",\"INFO\"]"
   ]
  },
  {
   "cell_type": "code",
   "execution_count": 123,
   "id": "12f78815",
   "metadata": {},
   "outputs": [
    {
     "data": {
      "text/plain": [
       "['MSFT', 'LIN', 'ACN', 'JBHT', 'XYL', 'TXN', 'CRM', 'GIL', 'MCB', 'INFO']"
      ]
     },
     "execution_count": 123,
     "metadata": {},
     "output_type": "execute_result"
    }
   ],
   "source": [
    "keywords = top_ten_list\n",
    "keywords"
   ]
  },
  {
   "cell_type": "markdown",
   "id": "e5078009",
   "metadata": {},
   "source": [
    "# Fetching Tweets by Keyword\n"
   ]
  },
  {
   "cell_type": "markdown",
   "id": "0cca6820",
   "metadata": {},
   "source": [
    "## first get the amount to search per keyword"
   ]
  },
  {
   "cell_type": "code",
   "execution_count": 127,
   "id": "9d33ba58",
   "metadata": {},
   "outputs": [],
   "source": [
    "# the number of tweets to search per keyword/ticker.\n",
    "noOfTweets = 240"
   ]
  },
  {
   "cell_type": "markdown",
   "id": "2f678d37",
   "metadata": {},
   "source": [
    "## Query twitter.\n",
    "In order to search for tweets we must specify the parameters.\n",
    " - Language is set to english.\n",
    " - start date and end date is set to 2021-10-01, 2021-12-01\n",
    " - the amount of tweets per keyword is 240.\n",
    " - the inner for loop just gets the corresponding ticker name, so we dont lose track of which tweet is talking about which ticker."
   ]
  },
  {
   "cell_type": "code",
   "execution_count": 87,
   "id": "d6fca7b6",
   "metadata": {},
   "outputs": [],
   "source": [
    "# Dates\n",
    "date_since = \"2021-10-01\"\n",
    "date_until = \"2021-12-01\"\n",
    "\n",
    "# List for all the tickers and the tweets.\n",
    "ticker = []\n",
    "tweets = []\n",
    "for keyword in keywords:\n",
    "    tweets.append(tweepy.Cursor(api.search_tweets, q = keyword ,lang=\"en\", since=date_since, until=date_until).items(noOfTweets))\n",
    "    for i in range(noOfTweets):\n",
    "        ticker.append(keyword)\n"
   ]
  },
  {
   "cell_type": "markdown",
   "id": "0d5ea69c",
   "metadata": {},
   "source": [
    "## Creating a dataframe where we match the tweet text to the ticker/keyword."
   ]
  },
  {
   "cell_type": "code",
   "execution_count": null,
   "id": "61982d2e",
   "metadata": {},
   "outputs": [],
   "source": [
    "df = pd.DataFrame(list(zip(tweets, ticker)), columns =['tweets', 'ticker'])\n",
    "df"
   ]
  },
  {
   "cell_type": "markdown",
   "id": "44c6f64d",
   "metadata": {},
   "source": [
    "### plotting the occurrence of every ticker."
   ]
  },
  {
   "cell_type": "code",
   "execution_count": null,
   "id": "a444cdf0",
   "metadata": {},
   "outputs": [],
   "source": [
    "sns.set(rc={'figure.figsize':(11.7,8.27)})\n",
    "ax = sns.barplot(x='ticker', data=df)"
   ]
  },
  {
   "cell_type": "code",
   "execution_count": 88,
   "id": "126c99a6",
   "metadata": {},
   "outputs": [],
   "source": [
    "#create an empty list to store results\n",
    "#tweets_list=[]\n",
    "\n",
    "# iterate throw the results of the api search\n",
    "#for item in tweets:\n",
    "    #create a dict object with the values that we want to store it\n",
    "    #myTweet = { \"tweet_id\": item.id_str,\n",
    "    #            \"location\": item.user.location, \n",
    "    #            \"text\": item.text, \n",
    "    #            \"tweet_date\": item.created_at\n",
    "    #          }"
   ]
  },
  {
   "cell_type": "code",
   "execution_count": 98,
   "id": "2cea3128",
   "metadata": {},
   "outputs": [],
   "source": [
    "# Collect a list of tweets"
   ]
  },
  {
   "cell_type": "markdown",
   "id": "424ab878",
   "metadata": {},
   "source": [
    "# This is going to analyze the text\n",
    "\n",
    "Getting the count  of all the postive, neutral and negative tweets as well as storing the actual tweets and their respective polarity."
   ]
  },
  {
   "cell_type": "code",
   "execution_count": null,
   "id": "b5e05cd9",
   "metadata": {},
   "outputs": [],
   "source": [
    "# counts\n",
    "positive  = 0\n",
    "negative = 0\n",
    "neutral = 0\n",
    "\n",
    "# score\n",
    "polarity = 0\n",
    "\n",
    "# lists\n",
    "neutral_list = []\n",
    "negative_list = []\n",
    "positive_list = []"
   ]
  },
  {
   "cell_type": "markdown",
   "id": "5ca5addc",
   "metadata": {},
   "source": [
    "### Putting everytweet in the correct list for further analysis."
   ]
  },
  {
   "cell_type": "code",
   "execution_count": 18,
   "id": "2c2edf60",
   "metadata": {},
   "outputs": [
    {
     "ename": "AttributeError",
     "evalue": "'ItemIterator' object has no attribute 'text'",
     "output_type": "error",
     "traceback": [
      "\u001b[1;31m---------------------------------------------------------------------------\u001b[0m",
      "\u001b[1;31mAttributeError\u001b[0m                            Traceback (most recent call last)",
      "\u001b[1;32m~\\AppData\\Local\\Temp/ipykernel_20600/1933976520.py\u001b[0m in \u001b[0;36m<module>\u001b[1;34m\u001b[0m\n\u001b[0;32m      2\u001b[0m \u001b[1;32mfor\u001b[0m \u001b[0mtweet\u001b[0m \u001b[1;32min\u001b[0m \u001b[0mtweets\u001b[0m\u001b[1;33m:\u001b[0m\u001b[1;33m\u001b[0m\u001b[1;33m\u001b[0m\u001b[0m\n\u001b[0;32m      3\u001b[0m \u001b[1;33m\u001b[0m\u001b[0m\n\u001b[1;32m----> 4\u001b[1;33m     \u001b[0mtweet_list\u001b[0m\u001b[1;33m.\u001b[0m\u001b[0mappend\u001b[0m\u001b[1;33m(\u001b[0m\u001b[0mtweet\u001b[0m\u001b[1;33m.\u001b[0m\u001b[0mtext\u001b[0m\u001b[1;33m)\u001b[0m\u001b[1;33m\u001b[0m\u001b[1;33m\u001b[0m\u001b[0m\n\u001b[0m\u001b[0;32m      5\u001b[0m     \u001b[0manalysis\u001b[0m \u001b[1;33m=\u001b[0m \u001b[0mTextBlob\u001b[0m\u001b[1;33m(\u001b[0m\u001b[0mtweet\u001b[0m\u001b[1;33m.\u001b[0m\u001b[0mtext\u001b[0m\u001b[1;33m)\u001b[0m\u001b[1;33m\u001b[0m\u001b[1;33m\u001b[0m\u001b[0m\n\u001b[0;32m      6\u001b[0m     \u001b[0mscore\u001b[0m \u001b[1;33m=\u001b[0m \u001b[0mSentimentIntensityAnalyzer\u001b[0m\u001b[1;33m(\u001b[0m\u001b[1;33m)\u001b[0m\u001b[1;33m.\u001b[0m\u001b[0mpolarity_scores\u001b[0m\u001b[1;33m(\u001b[0m\u001b[0mtweet\u001b[0m\u001b[1;33m.\u001b[0m\u001b[0mtext\u001b[0m\u001b[1;33m)\u001b[0m\u001b[1;33m\u001b[0m\u001b[1;33m\u001b[0m\u001b[0m\n",
      "\u001b[1;31mAttributeError\u001b[0m: 'ItemIterator' object has no attribute 'text'"
     ]
    }
   ],
   "source": [
    "tweet_list = []\n",
    "for tweet in tweets:\n",
    "    \n",
    "    tweet_list.append(tweet.text)\n",
    "    analysis = TextBlob(tweet.text)\n",
    "    score = SentimentIntensityAnalyzer().polarity_scores(tweet.text)\n",
    "    neg = score['neg']\n",
    "    neu = score['neu']\n",
    "    pos = score['pos']\n",
    "    comp = score['compound']\n",
    "    polarity += analysis.sentiment.polarity\n",
    "    \n",
    "    if neg > pos:\n",
    "        negative_list.append(tweet.text)\n",
    "        negative += 1\n",
    "\n",
    "    elif pos > neg:\n",
    "        positive_list.append(tweet.text)\n",
    "        positive += 1\n",
    "    \n",
    "    elif pos == neg:\n",
    "        neutral_list.append(tweet.text)\n",
    "        neutral += 1\n",
    "\n",
    "positive = percentage(positive, noOfTweet)\n",
    "negative = percentage(negative, noOfTweet)\n",
    "neutral = percentage(neutral, noOfTweet)\n",
    "polarity = percentage(polarity, noOfTweet)\n",
    "positive = format(positive, '.1f')\n",
    "negative = format(negative, '.1f')\n",
    "neutral = format(neutral, '.1f')\n"
   ]
  },
  {
   "cell_type": "markdown",
   "id": "76b86866",
   "metadata": {},
   "source": [
    "### Creating dataframes to plot and review."
   ]
  },
  {
   "cell_type": "code",
   "execution_count": null,
   "id": "dcefb42d",
   "metadata": {},
   "outputs": [],
   "source": [
    "# Number of Tweets (Total, Positive, Negative, Neutral)\n",
    "tweet_list = pd.DataFrame(tweet_list)\n",
    "neutral_list = pd.DataFrame(neutral_list)\n",
    "negative_list = pd.DataFrame(negative_list)\n",
    "positive_list = pd.DataFrame(positive_list)\n",
    "\n",
    "\n",
    "# DataFrame to analyze the sentiment distribution\n",
    "tweet_distribution = pd.DataFrame.from_dict({\"total_tweets_counts\":len(tweet_list), \"postive_tweets_count\":len(positive_list),\n",
    "             \"negative_tweets_count\":len(negative_list),\n",
    "             \"neutral_tweets_counts\":len(neutral_list)}, orient=\"index\").T\n",
    "display(tweet_distribution)\n",
    "\n",
    "\n",
    "# saving data frame to CSV files\n",
    "tweet_list.to_csv(\"tweet_list.csv\")\n",
    "neutral_list.to_csv(\"neutral_list.csv\")\n",
    "negative_list.to_csv(\"negative_list.csv\")\n",
    "positive_list.to_csv(\"positive_list.csv\")\n",
    "\n"
   ]
  },
  {
   "cell_type": "code",
   "execution_count": null,
   "id": "6698970b",
   "metadata": {},
   "outputs": [],
   "source": [
    "# Review the Tweets DataFrame\n",
    "tweet_list"
   ]
  },
  {
   "cell_type": "markdown",
   "id": "1999a1ec",
   "metadata": {},
   "source": [
    "### Visualize the top ten tickers in All tweets, postive tweets, negative tweets, neutral tweets."
   ]
  },
  {
   "cell_type": "code",
   "execution_count": 122,
   "id": "b60cd480",
   "metadata": {},
   "outputs": [
    {
     "data": {
      "image/png": "[encoded data removed]",
      "text/plain": [
       "<Figure size 842.4x595.44 with 1 Axes>"
      ]
     },
     "metadata": {},
     "output_type": "display_data"
    }
   ],
   "source": [
    "import seaborn as sns\n",
    "sns.set(rc={'figure.figsize':(11.7,8.27)})\n",
    "ax = sns.barplot(data=tweet_distribution)"
   ]
  },
  {
   "cell_type": "code",
   "execution_count": null,
   "id": "c3a0ccff",
   "metadata": {},
   "outputs": [],
   "source": []
  },
  {
   "cell_type": "code",
   "execution_count": null,
   "id": "77dc5b44",
   "metadata": {},
   "outputs": [],
   "source": []
  }
 ],
 "metadata": {
  "kernelspec": {
   "display_name": "Python 3 (ipykernel)",
   "language": "python",
   "name": "python3"
  },
  "language_info": {
   "codemirror_mode": {
    "name": "ipython",
    "version": 3
   },
   "file_extension": ".py",
   "mimetype": "text/x-python",
   "name": "python",
   "nbconvert_exporter": "python",
   "pygments_lexer": "ipython3",
   "version": "3.8.10"
  }
 },
 "nbformat": 4,
 "nbformat_minor": 5
}
